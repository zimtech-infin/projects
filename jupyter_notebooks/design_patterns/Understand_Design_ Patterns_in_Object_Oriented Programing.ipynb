{
 "cells": [
  {
   "cell_type": "markdown",
   "metadata": {},
   "source": [
    "# **Understanding Design Patterns in Python (OOP)**\n",
    "\n",
    "## **Introduction to Design Patterns**\n",
    "\n",
    "Design patterns are proven solutions to common problems that occur during software development. They provide a structured approach to solving specific problems in object-oriented programming (OOP). Design patterns can be thought of as templates or blueprints for writing code that is:\n",
    "\n",
    "- **Reusable**: Code can be used in multiple applications.\n",
    "- **Maintainable**: Code is easy to understand and modify.\n",
    "- **Flexible**: Code is adaptable to changing requirements.\n",
    "\n",
    "### **Analogy**\n",
    "\n",
    "Design patterns are like **blueprints for building a house**. Just as a blueprint guides the construction of a house with specific rooms and structures, design patterns guide software developers to create well-organized and efficient code.\n",
    "\n",
    "---\n",
    "\n",
    "## **1. Singleton Pattern**\n",
    "\n",
    "### **Purpose**\n",
    "Ensure a class has only one instance and provides a global point of access to it.\n",
    "\n",
    "### **Analogy**\n",
    "\n",
    "Imagine a government that issues only one type of national identity card. No matter how many times a person applies, they will always receive the same card with their unique ID.\n",
    "\n",
    "### **Code Example**\n"
   ]
  },
  {
   "cell_type": "code",
   "execution_count": 1,
   "metadata": {},
   "outputs": [
    {
     "name": "stdout",
     "output_type": "stream",
     "text": [
      "Creating new database connection instance\n",
      "True\n"
     ]
    }
   ],
   "source": [
    "class DatabaseConnection:\n",
    "    _instance = None\n",
    "\n",
    "    def __new__(cls):\n",
    "        if cls._instance is None:\n",
    "            cls._instance = super(DatabaseConnection, cls).__new__(cls)\n",
    "            # Initialize the database connection here\n",
    "            print(\"Creating new database connection instance\")\n",
    "        return cls._instance\n",
    "\n",
    "# Usage\n",
    "db1 = DatabaseConnection()\n",
    "db2 = DatabaseConnection()\n",
    "\n",
    "print(db1 == db2)  # Output: True, both are the same instance\n"
   ]
  },
  {
   "cell_type": "markdown",
   "metadata": {},
   "source": [
    "---\n",
    "\n",
    "## **2. Factory Pattern**\n",
    "\n",
    "### **Purpose**\n",
    "Provide an interface for creating objects but allow subclasses to alter the type of objects that will be created.\n",
    "\n",
    "### **Analogy**\n",
    "\n",
    "Consider a car factory. You provide a specification (type of car), and the factory produces a car according to your request. You don't need to know how the car is made, just how to use it.\n",
    "\n",
    "### **Code Example**\n"
   ]
  },
  {
   "cell_type": "code",
   "execution_count": 2,
   "metadata": {},
   "outputs": [
    {
     "name": "stdout",
     "output_type": "stream",
     "text": [
      "Drawing a circle.\n"
     ]
    }
   ],
   "source": [
    "class Shape:\n",
    "    def draw(self):\n",
    "        raise NotImplementedError(\"You must implement the draw method!\")\n",
    "\n",
    "class Circle(Shape):\n",
    "    def draw(self):\n",
    "        print(\"Drawing a circle.\")\n",
    "\n",
    "class Square(Shape):\n",
    "    def draw(self):\n",
    "        print(\"Drawing a square.\")\n",
    "\n",
    "class ShapeFactory:\n",
    "    @staticmethod\n",
    "    def create_shape(shape_type):\n",
    "        if shape_type == 'circle':\n",
    "            return Circle()\n",
    "        elif shape_type == 'square':\n",
    "            return Square()\n",
    "        else:\n",
    "            return None\n",
    "\n",
    "# Usage\n",
    "shape_factory = ShapeFactory()\n",
    "shape = shape_factory.create_shape('circle')\n",
    "shape.draw()  # Output: Drawing a circle.\n"
   ]
  },
  {
   "cell_type": "markdown",
   "metadata": {},
   "source": [
    "---\n",
    "\n",
    "## **3. Observer Pattern**\n",
    "\n",
    "### **Purpose**\n",
    "Define a one-to-many dependency between objects so that when one object changes state, all its dependents are notified and updated automatically.\n",
    "\n",
    "### **Analogy**\n",
    "\n",
    "Think of a news agency that publishes news. Subscribers (people) can register with the agency, and when news is published, all subscribers are notified.\n",
    "\n",
    "### **Code Example**\n"
   ]
  },
  {
   "cell_type": "code",
   "execution_count": 3,
   "metadata": {},
   "outputs": [
    {
     "name": "stdout",
     "output_type": "stream",
     "text": [
      "Subscriber received: New message available!\n",
      "Subscriber received: New message available!\n"
     ]
    }
   ],
   "source": [
    "class Subscriber:\n",
    "    def update(self, message):\n",
    "        print(f\"Subscriber received: {message}\")\n",
    "\n",
    "class Publisher:\n",
    "    def __init__(self):\n",
    "        self.subscribers = []\n",
    "\n",
    "    def subscribe(self, subscriber):\n",
    "        self.subscribers.append(subscriber)\n",
    "\n",
    "    def unsubscribe(self, subscriber):\n",
    "        self.subscribers.remove(subscriber)\n",
    "\n",
    "    def notify_subscribers(self, message):\n",
    "        for subscriber in self.subscribers:\n",
    "            subscriber.update(message)\n",
    "\n",
    "# Usage\n",
    "publisher = Publisher()\n",
    "subscriber1 = Subscriber()\n",
    "subscriber2 = Subscriber()\n",
    "\n",
    "publisher.subscribe(subscriber1)\n",
    "publisher.subscribe(subscriber2)\n",
    "\n",
    "publisher.notify_subscribers(\"New message available!\")  \n",
    "# Output: \n",
    "# Subscriber received: New message available!\n",
    "# Subscriber received: New message available!\n"
   ]
  },
  {
   "cell_type": "markdown",
   "metadata": {},
   "source": [
    "---\n",
    "\n",
    "## **4. Strategy Pattern**\n",
    "\n",
    "### **Purpose**\n",
    "Define a family of algorithms, encapsulate each one, and make them interchangeable. Strategy lets the algorithm vary independently from the clients that use it.\n",
    "\n",
    "### **Analogy**\n",
    "\n",
    "Consider a shopping cart in an online store. You might have different payment methods like credit card, PayPal, or Bitcoin. The store allows you to choose the strategy (payment method) you want to use.\n",
    "\n",
    "### **Code Example**\n"
   ]
  },
  {
   "cell_type": "code",
   "execution_count": 4,
   "metadata": {},
   "outputs": [
    {
     "name": "stdout",
     "output_type": "stream",
     "text": [
      "Paying 100 using a Credit Card.\n",
      "Paying 200 using PayPal.\n"
     ]
    }
   ],
   "source": [
    "class PaymentStrategy:\n",
    "    def pay(self, amount):\n",
    "        raise NotImplementedError(\"You must implement the pay method!\")\n",
    "\n",
    "class CreditCardPayment(PaymentStrategy):\n",
    "    def pay(self, amount):\n",
    "        print(f\"Paying {amount} using a Credit Card.\")\n",
    "\n",
    "class PayPalPayment(PaymentStrategy):\n",
    "    def pay(self, amount):\n",
    "        print(f\"Paying {amount} using PayPal.\")\n",
    "\n",
    "# Usage\n",
    "payment_method = CreditCardPayment()\n",
    "payment_method.pay(100)  # Output: Paying 100 using a Credit Card.\n",
    "\n",
    "payment_method = PayPalPayment()\n",
    "payment_method.pay(200)  # Output: Paying 200 using PayPal.\n"
   ]
  },
  {
   "cell_type": "markdown",
   "metadata": {},
   "source": [
    "---\n",
    "\n",
    "## **Design Patterns in Software Development and the SDLC**\n",
    "\n",
    "Design patterns are employed throughout the **Software Development Life Cycle (SDLC)** to ensure robust, maintainable, and scalable software solutions.\n",
    "\n",
    "### **1. Requirements Gathering and Analysis**\n",
    "- **Identify Problems**: Understand the problem domain and identify which design patterns can solve specific problems.\n",
    "- **Example**: Use the **Observer Pattern** to handle complex event-based systems where multiple components need to react to changes in state.\n",
    "\n",
    "### **2. Design Phase**\n",
    "- **Blueprint Creation**: Use design patterns to create a blueprint for the system architecture.\n",
    "- **Example**: Apply the **Factory Pattern** to create objects without exposing the instantiation logic to the client, promoting loose coupling and higher cohesion.\n",
    "\n",
    "### **3. Implementation Phase**\n",
    "- **Code Implementation**: Implement code using the selected design patterns to ensure flexibility and reusability.\n",
    "- **Example**: Use the **Strategy Pattern** to implement different algorithms or functionalities that can be swapped at runtime without changing the client code.\n",
    "\n",
    "### **4. Testing Phase**\n",
    "- **Consistent Testing**: Design patterns like **Singleton** ensure consistent testing scenarios by providing a single source of truth for objects that should not be duplicated.\n",
    "- **Example**: Singleton patterns in logging or configuration management can ensure all components use the same configuration during testing.\n",
    "\n",
    "### **5. Deployment and Maintenance**\n",
    "- **Maintainability and Scalability**: Design patterns help in maintaining and scaling the software by providing clear, reusable, and well-organized code structures.\n",
    "- **Example**: The **Decorator Pattern** can be used to add new features or behaviors to existing objects dynamically during runtime without affecting other parts of the system.\n",
    "\n",
    "### **6. Continuous Improvement**\n",
    "- **Code Refactoring**: Refactor the code using design patterns to improve readability, maintainability, and performance over time.\n",
    "- **Example**: Applying the **Adapter Pattern** to integrate new components or systems without changing existing code.\n",
    "\n",
    "---\n",
    "\n",
    "### **Conclusion**\n",
    "\n",
    "Design patterns provide a structured approach to software development, making code more reusable, maintainable, and flexible. They are essential tools in the SDLC, guiding developers from design to deployment and beyond.\n"
   ]
  }
 ],
 "metadata": {
  "kernelspec": {
   "display_name": "Python 3",
   "language": "python",
   "name": "python3"
  },
  "language_info": {
   "codemirror_mode": {
    "name": "ipython",
    "version": 3
   },
   "file_extension": ".py",
   "mimetype": "text/x-python",
   "name": "python",
   "nbconvert_exporter": "python",
   "pygments_lexer": "ipython3",
   "version": "3.12.4"
  }
 },
 "nbformat": 4,
 "nbformat_minor": 2
}
