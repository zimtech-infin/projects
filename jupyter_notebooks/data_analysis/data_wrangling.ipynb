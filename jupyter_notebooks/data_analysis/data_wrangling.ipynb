{
 "cells": [
  {
   "cell_type": "markdown",
   "metadata": {},
   "source": [
    "# Data Wrangling with Python and Pandas\n",
    "\n",
    "Data wrangling, also known as data munging, is the process of transforming and preparing raw data into a format that is more appropriate for analysis. This process involves several key steps such as cleaning, structuring, and enriching raw data into a desired format for better decision-making in less time.\n",
    "\n",
    "## Why Data Wrangling?\n",
    "\n",
    "1. **Data Quality Improvement**: Helps in dealing with missing values, removing duplicates, and handling inconsistencies.\n",
    "2. **Data Consistency**: Ensures that data across different sources is consistent and harmonized.\n",
    "3. **Data Formatting**: Converts data into a more usable format that aligns with analysis needs.\n",
    "4. **Error Reduction**: Reduces the chances of errors in downstream data analysis and machine learning tasks.\n",
    "5. **Enhanced Analysis**: Facilitates complex analysis by structuring data into a suitable form.\n",
    "\n",
    "## How to Perform Data Wrangling?\n",
    "\n",
    "Data wrangling typically involves the following steps:\n",
    "\n",
    "1. **Data Cleaning**: Handling missing values, removing duplicates, fixing errors.\n",
    "2. **Data Transformation**: Normalization, standardization, binning, and creating new features.\n",
    "3. **Data Integration**: Combining data from different sources.\n",
    "4. **Data Reduction**: Aggregation, filtering, and dimensionality reduction.\n",
    "5. **Data Enrichment**: Adding additional information to the dataset.\n",
    "\n",
    "## When to Use Data Wrangling?\n",
    "\n",
    "Data wrangling should be performed whenever you receive raw data for analysis. It is especially crucial when:\n",
    "\n",
    "- The data contains missing or null values.\n",
    "- There are inconsistencies or duplicates in the data.\n",
    "- Data is not in a format suitable for analysis.\n",
    "- You need to combine multiple data sources.\n",
    "- Preparing data for machine learning models.\n",
    "\n",
    "In this guide, we'll use Python and the Pandas library to demonstrate data wrangling techniques with practical examples.\n",
    "\n"
   ]
  },
  {
   "cell_type": "code",
   "execution_count": 1,
   "metadata": {},
   "outputs": [
    {
     "name": "stdout",
     "output_type": "stream",
     "text": [
      "Sample DataFrame:\n",
      "    Name   Age  Gender   Salary Department\n",
      "0   John  28.0    Male  50000.0         HR\n",
      "1   Anna  22.0  Female  54000.0    Finance\n",
      "2  Peter  35.0    Male      NaN         IT\n",
      "3  Linda  32.0  Female  62000.0  Marketing\n",
      "4  James   NaN    Male  58000.0    Finance\n",
      "\n",
      "DataFrame Description:\n",
      "        Name        Age Gender        Salary Department\n",
      "count      9   8.000000      9      9.000000          9\n",
      "unique     9        NaN      2           NaN          4\n",
      "top     John        NaN   Male           NaN         IT\n",
      "freq       1        NaN      6           NaN          3\n",
      "mean     NaN  33.875000    NaN  57333.333333        NaN\n",
      "std      NaN   9.963326    NaN   4358.898944        NaN\n",
      "min      NaN  22.000000    NaN  50000.000000        NaN\n",
      "25%      NaN  27.750000    NaN  54000.000000        NaN\n",
      "50%      NaN  31.000000    NaN  58000.000000        NaN\n",
      "75%      NaN  37.500000    NaN  60000.000000        NaN\n",
      "max      NaN  52.000000    NaN  62000.000000        NaN\n"
     ]
    }
   ],
   "source": [
    "# Import necessary libraries\n",
    "import pandas as pd\n",
    "import numpy as np\n",
    "import matplotlib.pyplot as plt\n",
    "import seaborn as sns\n",
    "\n",
    "# Suppress warnings\n",
    "import warnings\n",
    "warnings.filterwarnings('ignore')\n",
    "\n",
    "# Create a sample DataFrame\n",
    "data = {\n",
    "    'Name': ['John', 'Anna', 'Peter', 'Linda', 'James', 'Emily', np.nan, 'Michael', 'Sara', 'David'],\n",
    "    'Age': [28, 22, 35, 32, np.nan, 27, 45, np.nan, 30, 52],\n",
    "    'Gender': ['Male', 'Female', 'Male', 'Female', 'Male', 'Female', 'Male', 'Male', np.nan, 'Male'],\n",
    "    'Salary': [50000, 54000, np.nan, 62000, 58000, 52000, 60000, 62000, 58000, 60000],\n",
    "    'Department': ['HR', 'Finance', 'IT', 'Marketing', 'Finance', 'IT', np.nan, 'IT', 'HR', 'Marketing']\n",
    "}\n",
    "\n",
    "df = pd.DataFrame(data)\n",
    "\n",
    "# Display the first 5 rows of the DataFrame\n",
    "print(\"Sample DataFrame:\")\n",
    "print(df.head())\n",
    "\n",
    "# Describe the DataFrame to see basic statistics\n",
    "print(\"\\nDataFrame Description:\")\n",
    "print(df.describe(include='all'))\n"
   ]
  },
  {
   "cell_type": "markdown",
   "metadata": {},
   "source": [
    "## Step 1: Data Cleaning\n",
    "\n",
    "Data cleaning involves handling missing values, removing duplicates, and correcting errors or inconsistencies in the dataset.\n",
    "\n",
    "### Handling Missing Values\n",
    "\n",
    "Missing values can distort the analysis and should be handled appropriately. Common techniques include:\n",
    "\n",
    "- **Removing rows or columns** with missing values.\n",
    "- **Imputing missing values** using the mean, median, mode, or a fixed value.\n",
    "\n",
    "Let's clean our sample dataset.\n"
   ]
  },
  {
   "cell_type": "markdown",
   "metadata": {},
   "source": [
    "# Check for missing values\n",
    "print(\"Missing values in each column:\")\n",
    "print(df.isnull().sum())\n",
    "\n",
    "# Handling missing values\n",
    "# Option 1: Drop rows with missing values\n",
    "df_cleaned = df.dropna()\n",
    "\n",
    "# Option 2: Impute missing values\n",
    "df_filled = df.copy()\n",
    "df_filled['Age'].fillna(df['Age'].mean(), inplace=True)\n",
    "df_filled['Salary'].fillna(df['Salary'].median(), inplace=True)\n",
    "df_filled['Gender'].fillna('Unknown', inplace=True)\n",
    "df_filled['Department'].fillna('General', inplace=True)\n",
    "\n",
    "print(\"\\nDataFrame after dropping missing values:\")\n",
    "print(df_cleaned.head())\n",
    "\n",
    "print(\"\\nDataFrame after imputing missing values:\")\n",
    "print(df_filled.head())\n"
   ]
  },
  {
   "cell_type": "markdown",
   "metadata": {},
   "source": [
    "## Step 2: Data Transformation and Visualization\n",
    "\n",
    "Data transformation involves converting data into a more suitable format for analysis. This includes normalization, standardization, binning, and creating new features.\n",
    "\n",
    "### Data Visualization\n",
    "\n",
    "Visualizations help in understanding the data better and identifying patterns, correlations, and outliers. We will create a few random charts to visualize the data using Matplotlib and Seaborn.\n"
   ]
  },
  {
   "cell_type": "markdown",
   "metadata": {},
   "source": [
    "# Example of Data Transformation: Binning Ages into Categories\n",
    "df_filled['Age_Group'] = pd.cut(df_filled['Age'], bins=[0, 25, 35, 60], labels=['Young', 'Adult', 'Senior'])\n",
    "\n",
    "# Visualization: Distribution of Salary\n",
    "plt.figure(figsize=(10, 6))\n",
    "sns.histplot(df_filled['Salary'], kde=True)\n",
    "plt.title('Salary Distribution')\n",
    "plt.xlabel('Salary')\n",
    "plt.ylabel('Frequency')\n",
    "plt.show()\n",
    "\n",
    "# Visualization: Age vs. Salary\n",
    "plt.figure(figsize=(10, 6))\n",
    "sns.scatterplot(x='Age', y='Salary', hue='Gender', data=df_filled)\n",
    "plt.title('Age vs. Salary by Gender')\n",
    "plt.xlabel('Age')\n",
    "plt.ylabel('Salary')\n",
    "plt.show()\n",
    "\n",
    "# Visualization: Count plot of Age Group\n",
    "plt.figure(figsize=(10, 6))\n",
    "sns.countplot(x='Age_Group', data=df_filled, palette='Set2')\n",
    "plt.title('Count of Age Groups')\n",
    "plt.xlabel('Age Group')\n",
    "plt.ylabel('Count')\n",
    "plt.show()\n"
   ]
  },
  {
   "cell_type": "markdown",
   "metadata": {},
   "source": [
    "## Conclusion\n",
    "\n",
    "Data wrangling is a critical step in the data analysis pipeline. By cleaning, transforming, and visualizing data, we can gain better insights and prepare the data for more advanced analysis or machine learning models.\n",
    "\n",
    "In this guide, we've explored various data wrangling techniques using Python and Pandas, including handling missing values, transforming data, and visualizing data. With these skills, you can now effectively prepare raw data for analysis and make more informed decisions.\n",
    "\n",
    "Remember, the quality of your analysis is only as good as the quality of your data. Happy wrangling!\n"
   ]
  }
 ],
 "metadata": {
  "kernelspec": {
   "display_name": "Python 3",
   "language": "python",
   "name": "python3"
  },
  "language_info": {
   "codemirror_mode": {
    "name": "ipython",
    "version": 3
   },
   "file_extension": ".py",
   "mimetype": "text/x-python",
   "name": "python",
   "nbconvert_exporter": "python",
   "pygments_lexer": "ipython3",
   "version": "3.12.4"
  }
 },
 "nbformat": 4,
 "nbformat_minor": 2
}
